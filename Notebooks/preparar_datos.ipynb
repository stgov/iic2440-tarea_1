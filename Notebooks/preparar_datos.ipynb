{
 "cells": [
  {
   "cell_type": "code",
   "execution_count": 6,
   "metadata": {},
   "outputs": [],
   "source": [
    "import numpy as np\n",
    "import pandas as pd\n",
    "import re"
   ]
  },
  {
   "cell_type": "code",
   "execution_count": 7,
   "metadata": {},
   "outputs": [],
   "source": [
    "PATH_tweets = '../Data/tweets.csv'"
   ]
  },
  {
   "cell_type": "code",
   "execution_count": 8,
   "metadata": {},
   "outputs": [],
   "source": [
    "tweets = pd.read_csv(\n",
    "    PATH_tweets,\n",
    "    usecols=['id', 'screen_name', 'text'], \n",
    "    index_col='id', \n",
    "    dtype={'screen_name': str, 'text': str}\n",
    "    )\n",
    "tweets = tweets.drop_duplicates(subset='text', keep=False)\n",
    "tweets = tweets.dropna()"
   ]
  },
  {
   "cell_type": "code",
   "execution_count": 11,
   "metadata": {},
   "outputs": [],
   "source": [
    "def limpiar_retweet(tweet:str):\n",
    "    if tweet.startswith('RT'):\n",
    "        tweet = ''.join(tweet.split(': ')[1:])\n",
    "    return tweet\n",
    "\n",
    "def limpiar_hashtag(tweet:str):\n",
    "    tweet = re.sub(r'#\\w+', '', tweet)\n",
    "    return tweet\n",
    "\n",
    "def limpiar_url(tweet:str):\n",
    "    tweet = re.sub(r'http\\S+', '', tweet)\n",
    "    return tweet\n",
    "\n",
    "def limpiar_emoji(tweet:str):\n",
    "    tweet = re.sub(r'\\\\x\\w+', '', tweet)\n",
    "    return tweet\n",
    "\n",
    "def limpiar_puntuacion(tweet:str):\n",
    "    tweet = re.sub(r'[^\\w\\s@]', '', tweet)\n",
    "    return tweet\n",
    "\n",
    "def limpiar_espacios(tweet:str):\n",
    "    tweet = re.sub(r'\\s+', ' ', tweet)\n",
    "    return tweet\n",
    "\n",
    "def limpiar_mayusculas(tweet:str):\n",
    "    tweet = tweet.lower()\n",
    "    return tweet\n",
    "\n",
    "def remplazar_tildes(tweet:str):\n",
    "    tweet = tweet.replace('á', 'a')\n",
    "    tweet = tweet.replace('é', 'e')\n",
    "    tweet = tweet.replace('í', 'i')\n",
    "    tweet = tweet.replace('ó', 'o')\n",
    "    tweet = tweet.replace('ú', 'u')\n",
    "    return tweet\n",
    "\n",
    "def limpiar_texto(tweet:str):\n",
    "    tweet = limpiar_retweet(tweet)\n",
    "    tweet = limpiar_hashtag(tweet)\n",
    "    tweet = limpiar_url(tweet)\n",
    "    tweet = limpiar_emoji(tweet)\n",
    "    tweet = limpiar_puntuacion(tweet)\n",
    "    tweet = limpiar_espacios(tweet)\n",
    "    tweet = limpiar_mayusculas(tweet)\n",
    "    tweet = remplazar_tildes(tweet)\n",
    "    tweet = tweet.strip()\n",
    "    return tweet\n",
    "\n",
    "tweets['text'] = tweets.loc[:, 'text'].apply(limpiar_texto)"
   ]
  },
  {
   "cell_type": "code",
   "execution_count": 12,
   "metadata": {},
   "outputs": [],
   "source": [
    "# Save tweets\n",
    "tweets.to_parquet('../Data/tweets.parquet')"
   ]
  }
 ],
 "metadata": {
  "kernelspec": {
   "display_name": "Python 3",
   "language": "python",
   "name": "python3"
  },
  "language_info": {
   "codemirror_mode": {
    "name": "ipython",
    "version": 3
   },
   "file_extension": ".py",
   "mimetype": "text/x-python",
   "name": "python",
   "nbconvert_exporter": "python",
   "pygments_lexer": "ipython3",
   "version": "3.10.6"
  },
  "orig_nbformat": 4
 },
 "nbformat": 4,
 "nbformat_minor": 2
}
