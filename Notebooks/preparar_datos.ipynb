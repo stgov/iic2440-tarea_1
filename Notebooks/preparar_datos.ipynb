{
 "cells": [
  {
   "cell_type": "code",
   "execution_count": 1,
   "metadata": {},
   "outputs": [],
   "source": [
    "import numpy as np\n",
    "import pandas as pd\n",
    "import re"
   ]
  },
  {
   "cell_type": "code",
   "execution_count": 2,
   "metadata": {},
   "outputs": [],
   "source": [
    "PATH_tweets = '../Data/tweets.csv'"
   ]
  },
  {
   "cell_type": "code",
   "execution_count": 3,
   "metadata": {},
   "outputs": [],
   "source": [
    "tweets = pd.read_csv(\n",
    "    PATH_tweets,\n",
    "    usecols=['id', 'screen_name', 'text'], \n",
    "    index_col='id', \n",
    "    dtype={'screen_name': str, 'text': str}\n",
    "    )\n",
    "tweets = tweets.drop_duplicates(subset='text', keep=False)\n",
    "tweets = tweets.dropna()"
   ]
  },
  {
   "cell_type": "code",
   "execution_count": 4,
   "metadata": {},
   "outputs": [
    {
     "data": {
      "text/plain": [
       "'@unveranonaranja @ruidosafest @franciscamusic @giovannaroa @diegosporzio Gracias querida 💗'"
      ]
     },
     "execution_count": 4,
     "metadata": {},
     "output_type": "execute_result"
    }
   ],
   "source": [
    "tweets.iloc[0].text"
   ]
  },
  {
   "cell_type": "code",
   "execution_count": 5,
   "metadata": {},
   "outputs": [],
   "source": [
    "def limpiar_retweet(tweet:str):\n",
    "    if tweet.startswith('RT'):\n",
    "        tweet = ''.join(tweet.split(': ')[1:])\n",
    "    return tweet\n",
    "\n",
    "def limpiar_hashtag(tweet:str):\n",
    "    tweet = re.sub(r'#\\w+', '', tweet)\n",
    "    return tweet\n",
    "\n",
    "def limpiar_url(tweet:str):\n",
    "    tweet = re.sub(r'http\\S+', '', tweet)\n",
    "    return tweet\n",
    "\n",
    "def limpiar_emoji(tweet:str):\n",
    "    tweet = re.sub(r'\\\\x\\w+', '', tweet)\n",
    "    return tweet\n",
    "\n",
    "def limpiar_puntuacion(tweet:str):\n",
    "    tweet = re.sub(r'[^\\w\\s@]', '', tweet)\n",
    "    return tweet\n",
    "\n",
    "def limpiar_espacios(tweet:str):\n",
    "    tweet = re.sub(r'\\s+', ' ', tweet)\n",
    "    return tweet\n",
    "\n",
    "def limpiar_mayusculas(tweet:str):\n",
    "    tweet = tweet.lower()\n",
    "    return tweet\n",
    "\n",
    "def remplazar_tildes(tweet:str):\n",
    "    tweet = tweet.replace('á', 'a')\n",
    "    tweet = tweet.replace('é', 'e')\n",
    "    tweet = tweet.replace('í', 'i')\n",
    "    tweet = tweet.replace('ó', 'o')\n",
    "    tweet = tweet.replace('ú', 'u')\n",
    "    return tweet\n",
    "\n",
    "def limpiar_texto(tweet:str):\n",
    "    tweet = limpiar_retweet(tweet)\n",
    "    tweet = limpiar_hashtag(tweet)\n",
    "    tweet = limpiar_url(tweet)\n",
    "    tweet = limpiar_emoji(tweet)\n",
    "    tweet = limpiar_puntuacion(tweet)\n",
    "    tweet = limpiar_espacios(tweet)\n",
    "    tweet = limpiar_mayusculas(tweet)\n",
    "    tweet = remplazar_tildes(tweet)\n",
    "    tweets = tweet.strip()\n",
    "    return tweet\n",
    "\n",
    "tweets['text'] = tweets.loc[:, 'text'].apply(limpiar_texto)"
   ]
  },
  {
   "cell_type": "code",
   "execution_count": 6,
   "metadata": {},
   "outputs": [
    {
     "name": "stdout",
     "output_type": "stream",
     "text": [
      "@unveranonaranja @ruidosafest @franciscamusic @giovannaroa @diegosporzio gracias querida                                                              0\n",
      "@lasurivas @elisaloncon @siliconvalle @valdebenitonata rojas vade                                                                                     1\n",
      "@teanval0207 @izkia @arturozunigaj excelente                                                                                                          2\n",
      "@mcubillossigall                                                                                                                                      3\n",
      "@simonlodijo @ruidosafest @franciscamusic @giovannaroa @diegosporzio cami simplemente la mejor                                                        4\n",
      "@jaime_bassa @solshra sugiero usar telegram los canales son ilimitadas las suscripciones                                                              5\n",
      "@hernanlarrain @gabrielboric que va a hacer nada solo prestarle ropa para que se siga equivocando                                                     6\n",
      "@sokio @berfontaine no tienes como revatir algo que es la realidad expuesta por una persona que sabe de economia                                      7\n",
      "@tere_marinovic vengo a leer a la tere solo para enterarme que hace la izquierda no tienes ningun trabajo tuyo que exponer                            8\n",
      "@meqchile @elisaloncon si es comunista no tiene gracia                                                                                                9\n"
     ]
    }
   ],
   "source": [
    "for i in range(10):\n",
    "    print(tweets['text'].iloc[i].ljust(150) + f'{i}')"
   ]
  },
  {
   "cell_type": "code",
   "execution_count": 7,
   "metadata": {},
   "outputs": [],
   "source": [
    "# Save tweets\n",
    "tweets.to_parquet('../Data/tweets.parquet')"
   ]
  },
  {
   "cell_type": "code",
   "execution_count": 8,
   "metadata": {},
   "outputs": [],
   "source": [
    "def shingles(k, words: np.ndarray):\n",
    "    shingles = []\n",
    "    for i in range(0, len(words)):\n",
    "        shingles.append(' '.join(words[i:i+k]))\n",
    "    return list(set(shingles))"
   ]
  },
  {
   "cell_type": "code",
   "execution_count": 9,
   "metadata": {},
   "outputs": [],
   "source": [
    "k = 2 # Shingles size\n",
    "tweets['shingles'] = tweets['text'].str.split().apply(lambda x: np.array(x)).apply(lambda x: shingles(k, x))"
   ]
  },
  {
   "cell_type": "code",
   "execution_count": 10,
   "metadata": {},
   "outputs": [],
   "source": [
    "from sklearn.preprocessing import MultiLabelBinarizer"
   ]
  },
  {
   "cell_type": "code",
   "execution_count": 11,
   "metadata": {},
   "outputs": [],
   "source": [
    "shings = tweets['shingles'].to_numpy()\n",
    "mlb = MultiLabelBinarizer(sparse_output=True)\n",
    "caracteristica = mlb.fit_transform(shings)"
   ]
  },
  {
   "cell_type": "code",
   "execution_count": 12,
   "metadata": {},
   "outputs": [],
   "source": [
    "# !pip install pyarrow -q"
   ]
  },
  {
   "cell_type": "code",
   "execution_count": 13,
   "metadata": {},
   "outputs": [],
   "source": [
    "# Save csr matrix\n",
    "from scipy.sparse import save_npz\n",
    "\n",
    "# k 2 por los shingles\n",
    "save_npz(f'../Data/caracteristica_k{k}.npz', caracteristica)"
   ]
  },
  {
   "cell_type": "code",
   "execution_count": null,
   "metadata": {},
   "outputs": [],
   "source": []
  }
 ],
 "metadata": {
  "kernelspec": {
   "display_name": "Python 3",
   "language": "python",
   "name": "python3"
  },
  "language_info": {
   "codemirror_mode": {
    "name": "ipython",
    "version": 3
   },
   "file_extension": ".py",
   "mimetype": "text/x-python",
   "name": "python",
   "nbconvert_exporter": "python",
   "pygments_lexer": "ipython3",
   "version": "3.10.6"
  },
  "orig_nbformat": 4
 },
 "nbformat": 4,
 "nbformat_minor": 2
}
