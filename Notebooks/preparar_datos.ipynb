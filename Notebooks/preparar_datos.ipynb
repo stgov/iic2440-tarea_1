{
 "cells": [
  {
   "cell_type": "code",
   "execution_count": 2,
   "metadata": {},
   "outputs": [],
   "source": [
    "import numpy as np\n",
    "import pandas as pd\n",
    "import re"
   ]
  },
  {
   "cell_type": "code",
   "execution_count": 3,
   "metadata": {},
   "outputs": [],
   "source": [
    "PATH_tweets = '../Data/tweets.csv'"
   ]
  },
  {
   "cell_type": "code",
   "execution_count": 4,
   "metadata": {},
   "outputs": [],
   "source": [
    "tweets = pd.read_csv(\n",
    "    PATH_tweets,\n",
    "    usecols=['id', 'screen_name', 'text'], \n",
    "    index_col='id', \n",
    "    dtype={'screen_name': str, 'text': str}\n",
    "    )\n",
    "tweets = tweets.drop_duplicates(subset='text', keep=False)\n",
    "tweets = tweets.dropna()"
   ]
  },
  {
   "cell_type": "code",
   "execution_count": 5,
   "metadata": {},
   "outputs": [],
   "source": [
    "def limpiar_retweet(tweet:str):\n",
    "    if tweet.startswith('RT'):\n",
    "        tweet = ''.join(tweet.split(': ')[1:])\n",
    "    return tweet\n",
    "\n",
    "def limpiar_mencion(tweet:str):\n",
    "    tweet = re.sub(r'@\\w+', '', tweet)\n",
    "    return tweet\n",
    "\n",
    "tweets['text'] = tweets['text'].apply(limpiar_retweet)\n",
    "tweets['text'] = tweets['text'].apply(limpiar_mencion)"
   ]
  },
  {
   "cell_type": "code",
   "execution_count": 6,
   "metadata": {},
   "outputs": [],
   "source": [
    "tweets.loc[:, 'text'] = tweets['text'].str\\\n",
    "        .replace('[.,]', '', regex=True).str.lower()\\\n",
    "        .apply(lambda x: re.sub(r'[^a-zA-Z\\s]', '', x))"
   ]
  },
  {
   "cell_type": "code",
   "execution_count": 7,
   "metadata": {},
   "outputs": [],
   "source": [
    "# Save tweets\n",
    "tweets.to_parquet('../Data/tweets.parquet')"
   ]
  },
  {
   "cell_type": "code",
   "execution_count": 8,
   "metadata": {},
   "outputs": [],
   "source": [
    "def shingles(k, words: np.ndarray):\n",
    "    shingles = []\n",
    "    for i in range(0, len(words)):\n",
    "        shingles.append(' '.join(words[i:i+k]))\n",
    "    return list(set(shingles))"
   ]
  },
  {
   "cell_type": "code",
   "execution_count": 16,
   "metadata": {},
   "outputs": [],
   "source": [
    "k = 1 # Shingles size\n",
    "tweets['shingles'] = tweets['text'].str.split().apply(lambda x: np.array(x)).apply(lambda x: shingles(k, x))"
   ]
  },
  {
   "cell_type": "code",
   "execution_count": 17,
   "metadata": {},
   "outputs": [],
   "source": [
    "from sklearn.preprocessing import MultiLabelBinarizer"
   ]
  },
  {
   "cell_type": "code",
   "execution_count": 18,
   "metadata": {},
   "outputs": [],
   "source": [
    "shings = tweets['shingles'].to_numpy()\n",
    "mlb = MultiLabelBinarizer(sparse_output=True)\n",
    "caracteristica = mlb.fit_transform(shings)"
   ]
  },
  {
   "cell_type": "code",
   "execution_count": 19,
   "metadata": {},
   "outputs": [],
   "source": [
    "# !pip install pyarrow -q"
   ]
  },
  {
   "cell_type": "code",
   "execution_count": 20,
   "metadata": {},
   "outputs": [],
   "source": [
    "# Save csr matrix\n",
    "from scipy.sparse import save_npz\n",
    "\n",
    "# k 2 por los shingles\n",
    "save_npz('../Data/caracteristica_k2.npz', caracteristica)"
   ]
  },
  {
   "cell_type": "code",
   "execution_count": null,
   "metadata": {},
   "outputs": [],
   "source": []
  }
 ],
 "metadata": {
  "kernelspec": {
   "display_name": "Python 3",
   "language": "python",
   "name": "python3"
  },
  "language_info": {
   "codemirror_mode": {
    "name": "ipython",
    "version": 3
   },
   "file_extension": ".py",
   "mimetype": "text/x-python",
   "name": "python",
   "nbconvert_exporter": "python",
   "pygments_lexer": "ipython3",
   "version": "3.10.6"
  },
  "orig_nbformat": 4
 },
 "nbformat": 4,
 "nbformat_minor": 2
}
