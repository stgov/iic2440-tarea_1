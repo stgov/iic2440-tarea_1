{
 "cells": [
  {
   "cell_type": "code",
   "execution_count": 129,
   "metadata": {},
   "outputs": [],
   "source": [
    "import pandas as pd\n",
    "import numpy as np\n",
    "\n",
    "from scipy.sparse import load_npz\n",
    "from sklearn.neighbors import NearestNeighbors"
   ]
  },
  {
   "cell_type": "code",
   "execution_count": 128,
   "metadata": {},
   "outputs": [],
   "source": [
    "caracteristica = load_npz('../Data/caracteristica_k2.npz')\n",
    "tweets = pd.read_parquet('../Data/tweets.parquet')"
   ]
  },
  {
   "cell_type": "code",
   "execution_count": 130,
   "metadata": {},
   "outputs": [],
   "source": [
    "def jaccard_distance_sparse(u, v):\n",
    "    intersection = u.multiply(v).sum()\n",
    "    union = u.maximum(v).sum()\n",
    "    return 1.0 - intersection / union"
   ]
  },
  {
   "cell_type": "code",
   "execution_count": 151,
   "metadata": {},
   "outputs": [],
   "source": [
    "n_sample = 1_000_000\n",
    "sample = caracteristica[:n_sample]\n",
    "\n",
    "# ~ 0.0005 s * n_sample * k^2\n",
    "\n",
    "# ~ 0.0005 s * n_sample k=1\n",
    "# ~ 0.002 s * n_sample k=2\n",
    "# ~ 0.0045 s * n_sample k=3"
   ]
  },
  {
   "cell_type": "code",
   "execution_count": 152,
   "metadata": {},
   "outputs": [],
   "source": [
    "nn = NearestNeighbors(n_neighbors=10, algorithm='auto', metric=jaccard_distance_sparse)\n",
    "_ = nn.fit(sample)"
   ]
  },
  {
   "cell_type": "code",
   "execution_count": 153,
   "metadata": {},
   "outputs": [],
   "source": [
    "distances, indices = nn.kneighbors(caracteristica[0])"
   ]
  },
  {
   "cell_type": "code",
   "execution_count": 154,
   "metadata": {},
   "outputs": [
    {
     "name": "stdout",
     "output_type": "stream",
     "text": [
      "gracias querida \n",
      "\n",
      "gracias querida                                    \t 0.0\n",
      "gracias querida                                    \t 0.0\n",
      "gracias querida                                    \t 0.0\n",
      "gracias querida                                    \t 0.0\n",
      "gracias querida                                    \t 0.0\n",
      "gracias querida                                    \t 0.0\n",
      "gracias querida compaera                           \t 0.33333333333333337\n",
      "gracias querida amaya                              \t 0.33333333333333337\n",
      "gracias compaera querida                           \t 0.33333333333333337\n",
      "gracias querida cc                                 \t 0.33333333333333337\n"
     ]
    }
   ],
   "source": [
    "print(tweets.iloc[0]['text'].strip(), '\\n')\n",
    "\n",
    "for dist, i in zip(distances[0], indices[0]):\n",
    "    print(tweets.iloc[i]['text'].strip().ljust(50), '\\t', dist)"
   ]
  },
  {
   "cell_type": "code",
   "execution_count": 155,
   "metadata": {},
   "outputs": [
    {
     "name": "stdout",
     "output_type": "stream",
     "text": [
      "Porcentaje de cobertura: 72.90 %\n"
     ]
    }
   ],
   "source": [
    "print(f'Porcentaje de cobertura: {(n_sample / caracteristica.shape[0]) * 100:.2f} %')"
   ]
  },
  {
   "cell_type": "code",
   "execution_count": null,
   "metadata": {},
   "outputs": [],
   "source": []
  }
 ],
 "metadata": {
  "kernelspec": {
   "display_name": "Python 3",
   "language": "python",
   "name": "python3"
  },
  "language_info": {
   "codemirror_mode": {
    "name": "ipython",
    "version": 3
   },
   "file_extension": ".py",
   "mimetype": "text/x-python",
   "name": "python",
   "nbconvert_exporter": "python",
   "pygments_lexer": "ipython3",
   "version": "3.10.6"
  },
  "orig_nbformat": 4
 },
 "nbformat": 4,
 "nbformat_minor": 2
}
