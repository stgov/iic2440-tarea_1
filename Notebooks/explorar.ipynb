{
 "cells": [
  {
   "cell_type": "code",
   "execution_count": 67,
   "metadata": {},
   "outputs": [],
   "source": [
    "import pandas as pd\n",
    "import numpy as np\n",
    "\n",
    "from scipy.sparse import load_npz\n",
    "from sklearn.neighbors import NearestNeighbors\n",
    "from sklearn.metrics import jaccard_score"
   ]
  },
  {
   "cell_type": "code",
   "execution_count": 68,
   "metadata": {},
   "outputs": [],
   "source": [
    "def jaccard_distance_sparse(u, v):\n",
    "    intersection = u.multiply(v).sum()\n",
    "    union = u.maximum(v).sum()\n",
    "    return 1.0 - intersection / union"
   ]
  },
  {
   "cell_type": "code",
   "execution_count": 69,
   "metadata": {},
   "outputs": [],
   "source": [
    "k = 2\n",
    "caracteristica = load_npz(f'../Data/caracteristica_k{k}.npz')\n",
    "tweets = pd.read_parquet('../Data/tweets.parquet')"
   ]
  },
  {
   "cell_type": "code",
   "execution_count": 73,
   "metadata": {},
   "outputs": [],
   "source": [
    "n_sample = 20_000\n",
    "sample = caracteristica[:n_sample]"
   ]
  },
  {
   "cell_type": "code",
   "execution_count": 74,
   "metadata": {},
   "outputs": [],
   "source": [
    "nn = NearestNeighbors(n_neighbors=10, algorithm='auto', metric=jaccard_distance_sparse, n_jobs=-1)\n",
    "nn.fit(sample)\n",
    "distances, indices = nn.kneighbors(caracteristica[0])"
   ]
  },
  {
   "cell_type": "code",
   "execution_count": 75,
   "metadata": {},
   "outputs": [
    {
     "name": "stdout",
     "output_type": "stream",
     "text": [
      "@unveranonaranja @ruidosafest @franciscamusic @giovannaroa @diegosporzio gracias querida \n",
      "\n",
      "@unveranonaranja @ruidosafest @franciscamusic @giovannaroa @diegosporzio gracias querida \t 0.0\n",
      "@simonlodijo @ruidosafest @franciscamusic @giovannaroa @diegosporzio \t 0.6666666666666667\n",
      "@simonlodijo @ruidosafest @franciscamusic @giovannaroa @diegosporzio cami simplemente la mejor \t 0.7692307692307692\n",
      "@simonlodijo @ruidosafest @franciscamusic @giovannaroa @diegosporzio mucha suerte en tus nuevos proyectos cami \t 0.8125\n",
      "@simonlodijo @piaelizabethvm @ruidosafest @franciscamusic @giovannaroa muchas gracias a ti cami no sabes como te extraño \t 0.9\n",
      "@criordor gracias querida cristina y quienes aprobaron te la has jugado \t 0.9411764705882353\n",
      "@mdaza_abogado jajajajaja que buen sentido del humor lesa humanidad como comen con los ddhh mamita querida \t 0.9545454545454546\n",
      "los convencionales tienen claritas los conceptos de lo que estan redactando \t 1.0\n",
      "se pilla mas rapido a un bots que a un ladron      \t 1.0\n",
      "linconao                                           \t 1.0\n",
      "\n",
      "Porcentaje de cobertura: 1.46 %\n"
     ]
    }
   ],
   "source": [
    "print(tweets.iloc[0]['text'].strip(), '\\n')\n",
    "\n",
    "for dist, i in zip(distances[0], indices[0]):\n",
    "    print(tweets.iloc[i]['text'].strip().ljust(50), '\\t', dist)\n",
    "\n",
    "print(f'\\nPorcentaje de cobertura: {(n_sample / caracteristica.shape[0]) * 100:.2f} %')"
   ]
  },
  {
   "cell_type": "code",
   "execution_count": null,
   "metadata": {},
   "outputs": [],
   "source": []
  }
 ],
 "metadata": {
  "kernelspec": {
   "display_name": "Python 3",
   "language": "python",
   "name": "python3"
  },
  "language_info": {
   "codemirror_mode": {
    "name": "ipython",
    "version": 3
   },
   "file_extension": ".py",
   "mimetype": "text/x-python",
   "name": "python",
   "nbconvert_exporter": "python",
   "pygments_lexer": "ipython3",
   "version": "3.10.6"
  },
  "orig_nbformat": 4
 },
 "nbformat": 4,
 "nbformat_minor": 2
}
