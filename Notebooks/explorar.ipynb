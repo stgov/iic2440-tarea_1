{
 "cells": [
  {
   "cell_type": "code",
   "execution_count": 3,
   "metadata": {},
   "outputs": [],
   "source": [
    "import pandas as pd\n",
    "import numpy as np\n",
    "import pickle\n",
    "\n",
    "from scipy.sparse import load_npz, csr_matrix\n",
    "from sklearn.neighbors import NearestNeighbors\n",
    "from scripts.caracteristica import caracteristica as car\n",
    "\n",
    "from datasketch import MinHash, MinHashLSH"
   ]
  },
  {
   "cell_type": "code",
   "execution_count": 4,
   "metadata": {},
   "outputs": [],
   "source": [
    "def jaccard_distance_sparse(u, v):\n",
    "    intersection = u.multiply(v).sum()\n",
    "    union = u.maximum(v).sum()\n",
    "    return 1.0 - intersection / union"
   ]
  },
  {
   "cell_type": "code",
   "execution_count": 5,
   "metadata": {},
   "outputs": [],
   "source": [
    "n_perm = 128\n",
    "\n",
    "def minhash_vector(sparse_vector:csr_matrix, num_perm:int=n_perm):\n",
    "    minhash = MinHash(num_perm=num_perm)\n",
    "    for index in sparse_vector.indices:\n",
    "        minhash.update(str(index).encode('utf8'))\n",
    "    return minhash"
   ]
  },
  {
   "cell_type": "code",
   "execution_count": 6,
   "metadata": {},
   "outputs": [],
   "source": [
    "k = 2\n",
    "th = 0.5\n",
    "lsh = pickle.load(open(f'../Data/lsh/k{k}_th{th}.pkl', 'rb'))"
   ]
  },
  {
   "cell_type": "code",
   "execution_count": 8,
   "metadata": {},
   "outputs": [],
   "source": [
    "caracteristica, tweets = car(k=k)"
   ]
  },
  {
   "cell_type": "code",
   "execution_count": 15,
   "metadata": {},
   "outputs": [
    {
     "name": "stdout",
     "output_type": "stream",
     "text": [
      "TalkParisLondon;          @hugo_gutierrez_ la cc es lo que impulsa la crisis economica desconfianza en invertir ante las inminentes expropiaciones se\n",
      "\n",
      "2066,    fn19100             : @hugo_gutierrez_ la cc es lo que impulsa la crisis economica desconfianza en invertir ante las inminentes expropiaciones setenteras\n",
      "12,      TalkParisLondon     : @hugo_gutierrez_ la cc es lo que impulsa la crisis economica desconfianza en invertir ante las inminentes expropiaciones se\n"
     ]
    }
   ],
   "source": [
    "indice = 1007\n",
    "\n",
    "m = minhash_vector(caracteristica[indice])\n",
    "aprox = lsh.query(m)\n",
    "\n",
    "original = tweets.iloc[indice]\n",
    "print(f'{original[\"screen_name\"] + \";\".ljust(10)} {original[\"text\"]}\\n')\n",
    "\n",
    "repeticiones = {}\n",
    "for i in aprox:\n",
    "    twt = tweets.iloc[i]\n",
    "    repeticiones[twt.screen_name] = repeticiones.get(twt.screen_name, 0) + 1\n",
    "    print( f'{(str(i) + \",\").ljust(8)} {twt[\"screen_name\"].strip().ljust(20)}:'.ljust(30), twt['text'] )\n",
    "\n",
    "\n",
    "    # if twt['screen_name'] not in repeticiones:\n",
    "    #     repeticiones[twt['screen_name']] = 1\n",
    "    # else:\n",
    "    #     repeticiones[twt['screen_name']] += 1"
   ]
  },
  {
   "attachments": {},
   "cell_type": "markdown",
   "metadata": {},
   "source": [
    "Seleccionamos tweets de original y el usuario mas repetido."
   ]
  },
  {
   "cell_type": "code",
   "execution_count": 8,
   "metadata": {},
   "outputs": [],
   "source": [
    "mas_repetido = max(repeticiones)\n",
    "tweets = pd.read_parquet('../Data/tweets.parquet')\n",
    "par = []\n",
    "for c, name in enumerate(tweets['screen_name']):\n",
    "    if name == original['screen_name']:\n",
    "        tweet = tweets['text'].iloc[c]\n",
    "        par.append(f'{name}: {tweet}')\n",
    "    elif name == mas_repetido:\n",
    "        tweet = tweets['text'].iloc[c]\n",
    "        par.append(f'{name}: {tweet}')"
   ]
  },
  {
   "attachments": {},
   "cell_type": "markdown",
   "metadata": {},
   "source": [
    "Funcion que calcula diferencia jaccard entre los tweets, se la pedi a chatgpt asique igual seria buena idea revisarla en mas detalle."
   ]
  },
  {
   "cell_type": "code",
   "execution_count": 11,
   "metadata": {},
   "outputs": [],
   "source": [
    "import textdistance\n",
    "import heapq\n",
    "\n",
    "def find_most_similar_pairs(strings, k=30):\n",
    "    pairs = []\n",
    "    heap = []\n",
    "    \n",
    "    for i in range(len(strings)):\n",
    "        for j in range(i + 1, len(strings)):\n",
    "            similarity_score = textdistance.jaccard(strings[i], strings[j])\n",
    "            \n",
    "            heapq.heappush(heap, (similarity_score, (strings[i], strings[j])))\n",
    "            if len(heap) > k:\n",
    "                heapq.heappop(heap)\n",
    "    \n",
    "    while heap:\n",
    "        pairs.append(heapq.heappop(heap)[1])\n",
    "    \n",
    "    return pairs[::-1]"
   ]
  },
  {
   "attachments": {},
   "cell_type": "markdown",
   "metadata": {},
   "source": [
    "Calculamos los tweets mas similares, y mantenemos solamente los pares en donde haya un tweet de usuario original y otro del mas repetido."
   ]
  },
  {
   "cell_type": "code",
   "execution_count": 12,
   "metadata": {},
   "outputs": [
    {
     "name": "stdout",
     "output_type": "stream",
     "text": [
      "('ajsjah_adadj: @macar3na_m @carreragonzalo @tere_marinovic aqui les dejo su i r x ', 'vanipetu: @tere_marinovic una calurosa bienvenida a la cc en antofagasta ')\n",
      "('ajsjah_adadj: @tere_marinovic una ministra infiltrada ', 'vanipetu: @tere_marinovic jajajajaj grande tere te adoro ')\n",
      "('ajsjah_adadj: @tere_marinovic una ministra infiltrada ', 'vanipetu: @jaime_bassa cc mentirosaaaaaa')\n",
      "('ajsjah_adadj: @macar3na_m @carreragonzalo @tere_marinovic aqui les dejo su i r x ', 'vanipetu: @tere_marinovic jajajajaj grande tere te adoro ')\n",
      "('ajsjah_adadj: @macar3na_m @carreragonzalo @tere_marinovic aqui les dejo su i r x ', 'vanipetu: @germanjeshu @tere_marinovic aprendimos de los mejores destructores de la historia de nuestro pais ')\n",
      "('ajsjah_adadj: @tere_marinovic una ministra infiltrada ', 'vanipetu: @tere_marinovic una calurosa bienvenida a la cc en antofagasta ')\n",
      "('ajsjah_adadj: @macar3na_m @carreragonzalo @tere_marinovic aqui les dejo su i r x ', 'vanipetu: @patriota_1972 conosco ateos politicos que si o si votan rechazo ')\n",
      "('ajsjah_adadj: @tere_marinovic una ministra infiltrada ', 'vanipetu: @piensaprensa @convencioncl @tere_marinovic ')\n",
      "('vanipetu: @mdaza_abogado la ignorancia escurre por los constituyentes me pregunto si alguna vez leyeron la constitucion que quieren borrar ', 'ajsjah_adadj: @macar3na_m @carreragonzalo @tere_marinovic aqui les dejo su i r x ')\n"
     ]
    }
   ],
   "source": [
    "similar_pairs = find_most_similar_pairs(par)\n",
    "for pair in similar_pairs:\n",
    "    og = 0\n",
    "    repetido = 0\n",
    "    for tweet in pair:\n",
    "        if mas_repetido in tweet:\n",
    "            repetido += 1\n",
    "        elif original['screen_name'] in tweet:\n",
    "            og += 1\n",
    "    if og == 1 and repetido == 1:\n",
    "        print(pair)"
   ]
  }
 ],
 "metadata": {
  "kernelspec": {
   "display_name": "Python 3",
   "language": "python",
   "name": "python3"
  },
  "language_info": {
   "codemirror_mode": {
    "name": "ipython",
    "version": 3
   },
   "file_extension": ".py",
   "mimetype": "text/x-python",
   "name": "python",
   "nbconvert_exporter": "python",
   "pygments_lexer": "ipython3",
   "version": "3.10.6"
  }
 },
 "nbformat": 4,
 "nbformat_minor": 2
}
